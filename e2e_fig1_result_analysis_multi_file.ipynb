{
 "cells": [
  {
   "cell_type": "markdown",
   "metadata": {},
   "source": [
    "### Benchmark on the entire dataset"
   ]
  },
  {
   "cell_type": "markdown",
   "metadata": {},
   "source": [
    "#### result in multiple files under a directory"
   ]
  },
  {
   "cell_type": "code",
   "execution_count": 1,
   "metadata": {},
   "outputs": [],
   "source": [
    "import os\n",
    "import re\n",
    "import pandas as pd\n",
    "from matplotlib import pyplot as plt\n",
    "from tqdm import tqdm\n",
    "\n",
    "def extract_info(text):\n",
    "    line = text\n",
    "    if \"Start Time: \" in line and  \"End Time: \" in line and  \"Transcript: \" in line and \"Latency: \" in line:\n",
    "        start_time = float(line.split(\"Start Time: \")[1].split(\",\")[0])\n",
    "        end_time = float(line.split(\"End Time: \")[1].split(\",\")[0])\n",
    "        transcript = line.split(\"Transcript: \")[1].split(\", Latency: \")[0]  # Keep spaces as they are\n",
    "        latency = float(line.split(\"Latency: \")[1])\n",
    "        \n",
    "        return start_time, end_time, transcript, latency\n",
    "    else:\n",
    "        return None\n",
    "    \n",
    "def process_log(directory_path):\n",
    "    print(directory_path)\n",
    "    df = pd.DataFrame(columns=['audio', 'start_time', 'end_time', 'transcript', 'latency'])\n",
    "    files = os.listdir(directory_path)\n",
    "    file_names = [os.path.join(directory_path, f) for f in files if (os.path.isfile(os.path.join(directory_path, f)) and '.log' in f)]\n",
    "    file_names.sort()\n",
    "    print(file_names)\n",
    "    print(\"The file count: \" + str(len(file_names)))\n",
    "    success_count = 0\n",
    "    for file_path in file_names:\n",
    "        with open(file_path, errors=\"ignore\") as f:\n",
    "            audio = None\n",
    "            start_and_end_time_set = set()\n",
    "            for line in tqdm(f.readlines()):\n",
    "                if line.strip().endswith(\".wav\"):\n",
    "                    audio = line.strip()\n",
    "                    start_and_end_time_set = set()\n",
    "                    continue\n",
    "                elif (ret := extract_info(line)) is not None:\n",
    "                    start_time, end_time, transcript, latency = ret\n",
    "                    #print(transcript)\n",
    "                    #if (start_time, end_time) in start_and_end_time_set:\n",
    "                    #    continue\n",
    "                    #else:\n",
    "                    start_and_end_time_set.add((start_time, end_time))\n",
    "                    df_new = pd.DataFrame([{\n",
    "                        'audio': audio,\n",
    "                        'start_time': start_time,\n",
    "                        'end_time': end_time,\n",
    "                        'transcript': transcript,\n",
    "                        'latency': latency}]\n",
    "                    )\n",
    "                    df = pd.concat([df, df_new], ignore_index=True)\n",
    "                elif \"Average latency\" in line:\n",
    "                    success_count += 1\n",
    "    print(\"The success file count: \" + str(success_count))\n",
    "    return df"
   ]
  },
  {
   "cell_type": "code",
   "execution_count": 2,
   "metadata": {},
   "outputs": [
    {
     "name": "stdout",
     "output_type": "stream",
     "text": [
      "benchmarking_results/whisperflow/medium/ted-long-form-test-cut\n",
      "['benchmarking_results/whisperflow/medium/ted-long-form-test-cut/AimeeMullins-merged.wavsegment_1.log', 'benchmarking_results/whisperflow/medium/ted-long-form-test-cut/AimeeMullins-merged.wavsegment_2.log', 'benchmarking_results/whisperflow/medium/ted-long-form-test-cut/AimeeMullins-merged.wavsegment_3.log', 'benchmarking_results/whisperflow/medium/ted-long-form-test-cut/AimeeMullins-merged.wavsegment_4.log', 'benchmarking_results/whisperflow/medium/ted-long-form-test-cut/BillGates-merged.wavsegment_1.log', 'benchmarking_results/whisperflow/medium/ted-long-form-test-cut/BillGates-merged.wavsegment_2.log', 'benchmarking_results/whisperflow/medium/ted-long-form-test-cut/BillGates-merged.wavsegment_3.log', 'benchmarking_results/whisperflow/medium/ted-long-form-test-cut/BillGates-merged.wavsegment_4.log', 'benchmarking_results/whisperflow/medium/ted-long-form-test-cut/BillGates-merged.wavsegment_5.log', 'benchmarking_results/whisperflow/medium/ted-long-form-test-cut/DanBarber-merged.wavsegment_1.log', 'benchmarking_results/whisperflow/medium/ted-long-form-test-cut/DanBarber-merged.wavsegment_2.log', 'benchmarking_results/whisperflow/medium/ted-long-form-test-cut/DanBarber-merged.wavsegment_3.log', 'benchmarking_results/whisperflow/medium/ted-long-form-test-cut/DanielKahneman-merged.wavsegment_1.log', 'benchmarking_results/whisperflow/medium/ted-long-form-test-cut/DanielKahneman-merged.wavsegment_2.log', 'benchmarking_results/whisperflow/medium/ted-long-form-test-cut/DanielKahneman-merged.wavsegment_3.log', 'benchmarking_results/whisperflow/medium/ted-long-form-test-cut/DanielKahneman-merged.wavsegment_4.log', 'benchmarking_results/whisperflow/medium/ted-long-form-test-cut/EricMead_2009P_EricMead-merged.wavsegment_1.log', 'benchmarking_results/whisperflow/medium/ted-long-form-test-cut/EricMead_2009P_EricMead-merged.wavsegment_2.log', 'benchmarking_results/whisperflow/medium/ted-long-form-test-cut/GaryFlake-merged.wavsegment_1.log', 'benchmarking_results/whisperflow/medium/ted-long-form-test-cut/JamesCameron-merged.wavsegment_1.log', 'benchmarking_results/whisperflow/medium/ted-long-form-test-cut/JamesCameron-merged.wavsegment_2.log', 'benchmarking_results/whisperflow/medium/ted-long-form-test-cut/JamesCameron-merged.wavsegment_3.log', 'benchmarking_results/whisperflow/medium/ted-long-form-test-cut/JamesCameron-merged.wavsegment_4.log', 'benchmarking_results/whisperflow/medium/ted-long-form-test-cut/JaneMcGonigal-merged.wavsegment_1.log', 'benchmarking_results/whisperflow/medium/ted-long-form-test-cut/JaneMcGonigal-merged.wavsegment_2.log', 'benchmarking_results/whisperflow/medium/ted-long-form-test-cut/JaneMcGonigal-merged.wavsegment_3.log', 'benchmarking_results/whisperflow/medium/ted-long-form-test-cut/JaneMcGonigal-merged.wavsegment_4.log', 'benchmarking_results/whisperflow/medium/ted-long-form-test-cut/MichaelSpecter-merged.wavsegment_1.log', 'benchmarking_results/whisperflow/medium/ted-long-form-test-cut/MichaelSpecter-merged.wavsegment_2.log', 'benchmarking_results/whisperflow/medium/ted-long-form-test-cut/MichaelSpecter-merged.wavsegment_3.log', 'benchmarking_results/whisperflow/medium/ted-long-form-test-cut/RobertGupta-merged.wavsegment_1.log']\n",
      "The file count: 31\n"
     ]
    },
    {
     "name": "stderr",
     "output_type": "stream",
     "text": [
      "  0%|          | 0/172827 [00:00<?, ?it/s]/var/folders/q8/v4sscjhd6szcgb36c6hggw5w0000gq/T/ipykernel_23690/3368978043.py:51: FutureWarning: The behavior of DataFrame concatenation with empty or all-NA entries is deprecated. In a future version, this will no longer exclude empty or all-NA columns when determining the result dtypes. To retain the old behavior, exclude the relevant entries before the concat operation.\n",
      "  df = pd.concat([df, df_new], ignore_index=True)\n",
      "100%|██████████| 172827/172827 [00:00<00:00, 588850.88it/s] \n",
      "100%|██████████| 173062/173062 [00:00<00:00, 354432.53it/s] \n",
      "100%|██████████| 174485/174485 [00:00<00:00, 269969.83it/s] \n",
      "100%|██████████| 206575/206575 [00:01<00:00, 204309.06it/s] \n",
      "100%|██████████| 182176/182176 [00:01<00:00, 162936.03it/s] \n",
      "100%|██████████| 180880/180880 [00:01<00:00, 133307.28it/s] \n",
      "100%|██████████| 182220/182220 [00:01<00:00, 110122.34it/s] \n",
      "100%|██████████| 187841/187841 [00:01<00:00, 98007.41it/s]  \n",
      "100%|██████████| 188737/188737 [00:02<00:00, 73976.59it/s]  \n",
      "100%|██████████| 182647/182647 [00:02<00:00, 70452.16it/s]  \n",
      "100%|██████████| 184399/184399 [00:02<00:00, 65254.30it/s]  \n",
      "100%|██████████| 124581/124581 [00:00<00:00, 3374517.82it/s]\n",
      "100%|██████████| 181099/181099 [00:02<00:00, 64702.04it/s]  \n",
      "100%|██████████| 183162/183162 [00:03<00:00, 58568.86it/s]  \n",
      "100%|██████████| 182647/182647 [00:03<00:00, 56674.49it/s]  \n",
      "100%|██████████| 116653/116653 [00:02<00:00, 49132.10it/s]  \n",
      "100%|██████████| 186464/186464 [00:04<00:00, 43097.24it/s]  \n",
      "100%|██████████| 96064/96064 [00:02<00:00, 38378.92it/s] \n",
      "100%|██████████| 213619/213619 [00:05<00:00, 40237.14it/s]  \n",
      "100%|██████████| 180798/180798 [00:04<00:00, 41209.68it/s]  \n",
      "100%|██████████| 185969/185969 [00:05<00:00, 35098.95it/s]  \n",
      "100%|██████████| 187304/187304 [00:05<00:00, 35515.72it/s]  \n",
      "100%|██████████| 49633/49633 [00:01<00:00, 38811.05it/s] \n",
      "100%|██████████| 189274/189274 [00:06<00:00, 31196.81it/s]  \n",
      "100%|██████████| 188184/188184 [00:06<00:00, 30296.73it/s]  \n",
      "100%|██████████| 186382/186382 [00:06<00:00, 29356.38it/s]  \n",
      "100%|██████████| 170464/170464 [00:06<00:00, 26326.14it/s]  \n",
      "100%|██████████| 187043/187043 [00:07<00:00, 24512.47it/s]  \n",
      "100%|██████████| 190777/190777 [00:07<00:00, 24909.57it/s]  \n",
      "100%|██████████| 200868/200868 [00:08<00:00, 23082.00it/s]  \n",
      "100%|██████████| 203277/203277 [00:08<00:00, 24373.60it/s]  "
     ]
    },
    {
     "name": "stdout",
     "output_type": "stream",
     "text": [
      "The success file count: 30\n"
     ]
    },
    {
     "name": "stderr",
     "output_type": "stream",
     "text": [
      "\n"
     ]
    }
   ],
   "source": [
    "result_dir = \"benchmarking_results\"\n",
    "exp_name = \"whisperflow\"\n",
    "model_type = \"medium\"\n",
    "log_file = \"ted-long-form-test-cut\"\n",
    "\n",
    "file_path = os.path.join(result_dir, exp_name, model_type, log_file)\n",
    "\n",
    "df = process_log(file_path)"
   ]
  },
  {
   "cell_type": "code",
   "execution_count": 3,
   "metadata": {},
   "outputs": [
    {
     "name": "stdout",
     "output_type": "stream",
     "text": [
      "-0.89\n",
      "1.4081026016855993\n"
     ]
    }
   ],
   "source": [
    "print(df.latency.min())\n",
    "print(df.latency.mean())"
   ]
  },
  {
   "cell_type": "code",
   "execution_count": 4,
   "metadata": {},
   "outputs": [
    {
     "data": {
      "image/png": "[encoded data removed]",
      "text/plain": [
       "<Figure size 640x480 with 1 Axes>"
      ]
     },
     "metadata": {},
     "output_type": "display_data"
    }
   ],
   "source": [
    "plt.hist(df.latency, bins=30, edgecolor='black')  # 'bins' controls the number of intervals\n",
    "plt.xlabel('Latency (s)')\n",
    "plt.ylabel('Frequency')\n",
    "plt.title('Distribution of Latency - WhisperFlow')\n",
    "plt.show()"
   ]
  },
  {
   "cell_type": "code",
   "execution_count": 5,
   "metadata": {},
   "outputs": [
    {
     "name": "stdout",
     "output_type": "stream",
     "text": [
      " i'd like to share with you a discovery that i made a few months ago while writing an article for italian wired i always keep my th thesaurus handy whenever i'm writing anything but i'd already finish\n",
      "133653\n"
     ]
    }
   ],
   "source": [
    "final_res = ''\n",
    "for i in df['transcript']:\n",
    "    final_res += i\n",
    "print(final_res[:200])\n",
    "print(len(final_res))\n",
    "\n",
    "with open(\"tmp.txt\", \"w\") as file:\n",
    "    file.write(final_res)"
   ]
  },
  {
   "cell_type": "code",
   "execution_count": 8,
   "metadata": {},
   "outputs": [
    {
     "name": "stdout",
     "output_type": "stream",
     "text": [
      "Output: Average length of predictions and references: \n",
      "27308.0\n",
      "27848.0\n",
      "\n",
      "==================================================\n",
      "Normalisation: True\n",
      "Word Error Rate: 0.08008886211311092\n",
      "Accuracy: 92.0%\n",
      "==================================================\n",
      "\n",
      "\n",
      "Errors: /Users/rxpwang/miniconda3/lib/python3.12/site-packages/whisper/__init__.py:150: FutureWarning: You are using `torch.load` with `weights_only=False` (the current default value), which uses the default pickle module implicitly. It is possible to construct malicious pickle data which will execute arbitrary code during unpickling (See https://github.com/pytorch/pytorch/blob/main/SECURITY.md#untrusted-models for more details). In a future release, the default value for `weights_only` will be flipped to `True`. This limits the functions that could be executed during unpickling. Arbitrary objects will no longer be allowed to be loaded via this mode unless they are explicitly allowlisted by the user via `torch.serialization.add_safe_globals`. We recommend you start setting `weights_only=True` for any use case where you don't have full control of the loaded file. Please open an issue on GitHub for any issues related to this experimental feature.\n",
      "  checkpoint = torch.load(fp, map_location=device)\n",
      "\n"
     ]
    }
   ],
   "source": [
    "import subprocess\n",
    "command = [\n",
    "    \"python\", \n",
    "    \"wer/main.py\", \n",
    "    \"tmp.txt\", \n",
    "    \"samples/ted-lium-long-form-test-combined-transcript.txt\", \n",
    "    \"True\"\n",
    "]\n",
    "\n",
    "result = subprocess.run(command, capture_output=True, text=True)\n",
    "print(\"Output:\", result.stdout)\n",
    "print(\"Errors:\", result.stderr)"
   ]
  }
 ],
 "metadata": {
  "kernelspec": {
   "display_name": "base",
   "language": "python",
   "name": "python3"
  },
  "language_info": {
   "codemirror_mode": {
    "name": "ipython",
    "version": 3
   },
   "file_extension": ".py",
   "mimetype": "text/x-python",
   "name": "python",
   "nbconvert_exporter": "python",
   "pygments_lexer": "ipython3",
   "version": "3.12.2"
  }
 },
 "nbformat": 4,
 "nbformat_minor": 4
}
