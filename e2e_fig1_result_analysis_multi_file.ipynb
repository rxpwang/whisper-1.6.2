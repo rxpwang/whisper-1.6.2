{
 "cells": [
  {
   "cell_type": "markdown",
   "metadata": {},
   "source": [
    "### Benchmark on the entire dataset"
   ]
  },
  {
   "cell_type": "markdown",
   "metadata": {},
   "source": [
    "#### result in multiple files under a directory"
   ]
  },
  {
   "cell_type": "code",
   "execution_count": 5,
   "metadata": {},
   "outputs": [],
   "source": [
    "import os\n",
    "import re\n",
    "import pandas as pd\n",
    "from matplotlib import pyplot as plt\n",
    "from tqdm import tqdm\n",
    "\n",
    "def extract_info(text):\n",
    "    line = text\n",
    "    if \"Start Time: \" in line and  \"End Time: \" in line and  \"Transcript: \" in line and \"Latency: \" in line:\n",
    "        start_time = float(line.split(\"Start Time: \")[1].split(\",\")[0])\n",
    "        end_time = float(line.split(\"End Time: \")[1].split(\",\")[0])\n",
    "        transcript = line.split(\"Transcript: \")[1].split(\", Latency: \")[0]  # Keep spaces as they are\n",
    "        latency = float(line.split(\"Latency: \")[1])\n",
    "        \n",
    "        return start_time, end_time, transcript, latency\n",
    "    else:\n",
    "        return None\n",
    "    \n",
    "def process_log(directory_path):\n",
    "    print(directory_path)\n",
    "    df = pd.DataFrame(columns=['audio', 'start_time', 'end_time', 'transcript', 'latency'])\n",
    "    files = os.listdir(directory_path)\n",
    "    file_names = [os.path.join(directory_path, f) for f in files if (os.path.isfile(os.path.join(directory_path, f)) and '.log' in f)]\n",
    "    file_names.sort()\n",
    "    print(file_names)\n",
    "    print(\"The file count: \" + str(len(file_names)))\n",
    "    success_count = 0\n",
    "    for file_path in file_names:\n",
    "        with open(file_path, errors=\"ignore\") as f:\n",
    "            audio = None\n",
    "            start_and_end_time_set = set()\n",
    "            for line in tqdm(f.readlines()):\n",
    "                if line.strip().endswith(\".wav\"):\n",
    "                    audio = line.strip()\n",
    "                    start_and_end_time_set = set()\n",
    "                    continue\n",
    "                elif (ret := extract_info(line)) is not None:\n",
    "                    start_time, end_time, transcript, latency = ret\n",
    "                    #print(transcript)\n",
    "                    #if (start_time, end_time) in start_and_end_time_set:\n",
    "                    #    continue\n",
    "                    #else:\n",
    "                    start_and_end_time_set.add((start_time, end_time))\n",
    "                    df_new = pd.DataFrame([{\n",
    "                        'audio': audio,\n",
    "                        'start_time': start_time,\n",
    "                        'end_time': end_time,\n",
    "                        'transcript': transcript,\n",
    "                        'latency': latency}]\n",
    "                    )\n",
    "                    df = pd.concat([df, df_new], ignore_index=True)\n",
    "                elif \"Average latency\" in line:\n",
    "                    success_count += 1\n",
    "    print(\"The success file count: \" + str(success_count))\n",
    "    return df"
   ]
  },
  {
   "cell_type": "code",
   "execution_count": null,
   "metadata": {},
   "outputs": [
    {
     "name": "stdout",
     "output_type": "stream",
     "text": [
      "benchmarking_results/whisperflow/medium/ted-long-form-test-cut\n",
      "['benchmarking_results/whisperflow/medium/ted-long-form-test-cut/AimeeMullins-merged.wavsegment_1.log', 'benchmarking_results/whisperflow/medium/ted-long-form-test-cut/AimeeMullins-merged.wavsegment_2.log', 'benchmarking_results/whisperflow/medium/ted-long-form-test-cut/AimeeMullins-merged.wavsegment_3.log', 'benchmarking_results/whisperflow/medium/ted-long-form-test-cut/AimeeMullins-merged.wavsegment_4.log', 'benchmarking_results/whisperflow/medium/ted-long-form-test-cut/BillGates-merged.wavsegment_1.log', 'benchmarking_results/whisperflow/medium/ted-long-form-test-cut/BillGates-merged.wavsegment_2.log', 'benchmarking_results/whisperflow/medium/ted-long-form-test-cut/BillGates-merged.wavsegment_3.log', 'benchmarking_results/whisperflow/medium/ted-long-form-test-cut/BillGates-merged.wavsegment_4.log', 'benchmarking_results/whisperflow/medium/ted-long-form-test-cut/BillGates-merged.wavsegment_5.log', 'benchmarking_results/whisperflow/medium/ted-long-form-test-cut/DanBarber-merged.wavsegment_1.log', 'benchmarking_results/whisperflow/medium/ted-long-form-test-cut/DanBarber-merged.wavsegment_2.log', 'benchmarking_results/whisperflow/medium/ted-long-form-test-cut/DanBarber-merged.wavsegment_3.log', 'benchmarking_results/whisperflow/medium/ted-long-form-test-cut/DanielKahneman-merged.wavsegment_1.log', 'benchmarking_results/whisperflow/medium/ted-long-form-test-cut/DanielKahneman-merged.wavsegment_2.log', 'benchmarking_results/whisperflow/medium/ted-long-form-test-cut/DanielKahneman-merged.wavsegment_3.log', 'benchmarking_results/whisperflow/medium/ted-long-form-test-cut/DanielKahneman-merged.wavsegment_4.log', 'benchmarking_results/whisperflow/medium/ted-long-form-test-cut/EricMead_2009P_EricMead-merged.wavsegment_1.log', 'benchmarking_results/whisperflow/medium/ted-long-form-test-cut/EricMead_2009P_EricMead-merged.wavsegment_2.log', 'benchmarking_results/whisperflow/medium/ted-long-form-test-cut/GaryFlake-merged.wavsegment_1.log', 'benchmarking_results/whisperflow/medium/ted-long-form-test-cut/JamesCameron-merged.wavsegment_1.log', 'benchmarking_results/whisperflow/medium/ted-long-form-test-cut/JamesCameron-merged.wavsegment_2.log', 'benchmarking_results/whisperflow/medium/ted-long-form-test-cut/JamesCameron-merged.wavsegment_3.log', 'benchmarking_results/whisperflow/medium/ted-long-form-test-cut/JamesCameron-merged.wavsegment_4.log', 'benchmarking_results/whisperflow/medium/ted-long-form-test-cut/JaneMcGonigal-merged.wavsegment_1.log', 'benchmarking_results/whisperflow/medium/ted-long-form-test-cut/JaneMcGonigal-merged.wavsegment_2.log', 'benchmarking_results/whisperflow/medium/ted-long-form-test-cut/JaneMcGonigal-merged.wavsegment_3.log', 'benchmarking_results/whisperflow/medium/ted-long-form-test-cut/JaneMcGonigal-merged.wavsegment_4.log', 'benchmarking_results/whisperflow/medium/ted-long-form-test-cut/MichaelSpecter-merged.wavsegment_1.log', 'benchmarking_results/whisperflow/medium/ted-long-form-test-cut/MichaelSpecter-merged.wavsegment_2.log', 'benchmarking_results/whisperflow/medium/ted-long-form-test-cut/MichaelSpecter-merged.wavsegment_3.log', 'benchmarking_results/whisperflow/medium/ted-long-form-test-cut/RobertGupta-merged.wavsegment_1.log']\n",
      "The file count: 31\n"
     ]
    },
    {
     "name": "stderr",
     "output_type": "stream",
     "text": [
      "  0%|          | 0/136214 [00:00<?, ?it/s]/var/folders/4f/b73cbhys18j1lgxzqhmspqch0000gp/T/ipykernel_75690/3368978043.py:51: FutureWarning: The behavior of DataFrame concatenation with empty or all-NA entries is deprecated. In a future version, this will no longer exclude empty or all-NA columns when determining the result dtypes. To retain the old behavior, exclude the relevant entries before the concat operation.\n",
      "  df = pd.concat([df, df_new], ignore_index=True)\n",
      "100%|██████████| 136214/136214 [00:00<00:00, 454645.45it/s] \n",
      "100%|██████████| 136051/136051 [00:00<00:00, 266681.90it/s] \n",
      "100%|██████████| 135308/135308 [00:00<00:00, 196103.96it/s] \n",
      "100%|██████████| 162539/162539 [00:01<00:00, 143101.98it/s] \n",
      "100%|██████████| 142591/142591 [00:01<00:00, 114484.85it/s] \n",
      "100%|██████████| 141813/141813 [00:01<00:00, 93276.30it/s]  \n",
      "100%|██████████| 143184/143184 [00:01<00:00, 78284.60it/s]  \n",
      "100%|██████████| 146408/146408 [00:02<00:00, 66776.52it/s]  \n",
      "100%|██████████| 151245/151245 [00:02<00:00, 51844.79it/s]  \n",
      "100%|██████████| 148673/148673 [00:02<00:00, 52545.19it/s]  \n",
      "100%|██████████| 148516/148516 [00:03<00:00, 46172.87it/s]  \n",
      "100%|██████████| 117439/117439 [00:02<00:00, 42298.81it/s]  \n",
      "100%|██████████| 146166/146166 [00:03<00:00, 40992.69it/s]  \n",
      "100%|██████████| 141821/141821 [00:03<00:00, 39217.84it/s]  \n",
      "100%|██████████| 143039/143039 [00:03<00:00, 36581.41it/s]  \n",
      "100%|██████████| 95644/95644 [00:02<00:00, 34392.31it/s] \n",
      "100%|██████████| 150410/150410 [00:05<00:00, 28289.97it/s]  \n",
      "100%|██████████| 79148/79148 [00:03<00:00, 26329.78it/s] \n",
      "100%|██████████| 173266/173266 [00:06<00:00, 26463.06it/s]  \n",
      "100%|██████████| 145940/145940 [00:05<00:00, 27398.98it/s]  \n",
      "100%|██████████| 150009/150009 [00:06<00:00, 23486.01it/s]  \n",
      "100%|██████████| 148315/148315 [00:06<00:00, 23880.73it/s]  \n",
      "100%|██████████| 39549/39549 [00:01<00:00, 26236.60it/s] \n",
      "100%|██████████| 259502/259502 [00:07<00:00, 34923.91it/s]  \n",
      "100%|██████████| 146998/146998 [00:07<00:00, 20333.55it/s]  \n",
      "100%|██████████| 147994/147994 [00:07<00:00, 19741.03it/s]  \n",
      "100%|██████████| 137006/137006 [00:07<00:00, 17618.61it/s]  \n",
      "100%|██████████| 152314/152314 [00:09<00:00, 16722.72it/s]  \n",
      "100%|██████████| 152791/152791 [00:09<00:00, 15564.45it/s]  \n",
      "100%|██████████| 161821/161821 [00:10<00:00, 15952.80it/s]  \n",
      "100%|██████████| 162501/162501 [00:09<00:00, 16461.24it/s]  "
     ]
    },
    {
     "name": "stdout",
     "output_type": "stream",
     "text": [
      "The success file count: 31\n"
     ]
    },
    {
     "name": "stderr",
     "output_type": "stream",
     "text": [
      "\n"
     ]
    }
   ],
   "source": [
    "result_dir = \"benchmarking_results\"\n",
    "exp_name = \"baseline\"\n",
    "model_type = \"medium\"\n",
    "log_file = \"ted-long-form-test-cut\"\n",
    "\n",
    "file_path = os.path.join(result_dir, exp_name, model_type, log_file)\n",
    "\n",
    "df = process_log(file_path)"
   ]
  },
  {
   "cell_type": "code",
   "execution_count": 8,
   "metadata": {},
   "outputs": [
    {
     "name": "stdout",
     "output_type": "stream",
     "text": [
      "-0.87\n",
      "1.8433285805945678\n",
      "1.56535177344866\n"
     ]
    }
   ],
   "source": [
    "print(df.latency.min())\n",
    "print(df.latency.mean())\n",
    "print(df.latency.std())"
   ]
  },
  {
   "cell_type": "code",
   "execution_count": 9,
   "metadata": {},
   "outputs": [
    {
     "data": {
      "image/png": "[encoded data removed]",
      "text/plain": [
       "<Figure size 640x480 with 1 Axes>"
      ]
     },
     "metadata": {},
     "output_type": "display_data"
    }
   ],
   "source": [
    "plt.hist(df.latency, bins=30, edgecolor='black')  # 'bins' controls the number of intervals\n",
    "plt.xlabel('Latency (s)')\n",
    "plt.ylabel('Frequency')\n",
    "plt.title('Distribution of Latency - WhisperFlow')\n",
    "plt.show()"
   ]
  },
  {
   "cell_type": "code",
   "execution_count": 10,
   "metadata": {},
   "outputs": [
    {
     "name": "stdout",
     "output_type": "stream",
     "text": [
      " i'd like to share with you a discovery that i made a few months ago while writing an article for italian wired i always keep my thesaurus handy whenever i'm writing anything but i'd already finished \n",
      "137265\n"
     ]
    }
   ],
   "source": [
    "final_res = ''\n",
    "for i in df['transcript']:\n",
    "    final_res += i\n",
    "print(final_res[:200])\n",
    "print(len(final_res))\n",
    "\n",
    "with open(\"tmp.txt\", \"w\") as file:\n",
    "    file.write(final_res)"
   ]
  },
  {
   "cell_type": "code",
   "execution_count": 11,
   "metadata": {},
   "outputs": [
    {
     "name": "stdout",
     "output_type": "stream",
     "text": [
      "Output: \n",
      "Errors: Traceback (most recent call last):\n",
      "  File \"/Users/zhimingxu/whisper-ours/wer/main.py\", line 1, in <module>\n",
      "    import typer\n",
      "ModuleNotFoundError: No module named 'typer'\n",
      "\n"
     ]
    }
   ],
   "source": [
    "import subprocess\n",
    "command = [\n",
    "    \"python3\", \n",
    "    \"wer/main.py\", \n",
    "    \"tmp.txt\",\n",
    "    \"samples/ted-lium-long-form-test-combined-transcript.txt\", \n",
    "    \"True\"\n",
    "]\n",
    "\n",
    "result = subprocess.run(command, capture_output=True, text=True)\n",
    "print(\"Output:\", result.stdout)\n",
    "print(\"Errors:\", result.stderr)"
   ]
  },
  {
   "cell_type": "code",
   "execution_count": null,
   "metadata": {},
   "outputs": [],
   "source": []
  }
 ],
 "metadata": {
  "kernelspec": {
   "display_name": "tc",
   "language": "python",
   "name": "python3"
  },
  "language_info": {
   "codemirror_mode": {
    "name": "ipython",
    "version": 3
   },
   "file_extension": ".py",
   "mimetype": "text/x-python",
   "name": "python",
   "nbconvert_exporter": "python",
   "pygments_lexer": "ipython3",
   "version": "3.9.19"
  }
 },
 "nbformat": 4,
 "nbformat_minor": 4
}
