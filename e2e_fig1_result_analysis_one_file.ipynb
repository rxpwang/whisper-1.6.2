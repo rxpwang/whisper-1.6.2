{
 "cells": [
  {
   "cell_type": "markdown",
   "metadata": {},
   "source": [
    "### Benchmark on the entire dataset"
   ]
  },
  {
   "cell_type": "markdown",
   "metadata": {},
   "source": [
    "#### Baseline result in one file"
   ]
  },
  {
   "cell_type": "code",
   "execution_count": 1,
   "metadata": {},
   "outputs": [],
   "source": [
    "import os\n",
    "import re\n",
    "import pandas as pd\n",
    "from matplotlib import pyplot as plt\n",
    "from tqdm import tqdm\n",
    "\n",
    "def extract_info(text):\n",
    "    line = text\n",
    "    if \"Start Time: \" in line and  \"End Time: \" in line and  \"Transcript: \" in line and \"Latency: \" in line:\n",
    "        start_time = float(line.split(\"Start Time: \")[1].split(\",\")[0])\n",
    "        end_time = float(line.split(\"End Time: \")[1].split(\",\")[0])\n",
    "        transcript = line.split(\"Transcript: \")[1].split(\", Latency: \")[0]  # Keep spaces as they are\n",
    "        latency = float(line.split(\"Latency: \")[1])\n",
    "        \n",
    "        return start_time, end_time, transcript, latency\n",
    "    else:\n",
    "        return None\n",
    "    "
   ]
  },
  {
   "cell_type": "code",
   "execution_count": 2,
   "metadata": {},
   "outputs": [],
   "source": [
    "def process_log(file_path):\n",
    "    df = pd.DataFrame(columns=['audio', 'start_time', 'end_time', 'transcript', 'latency'])\n",
    "    with open(file_path, errors=\"ignore\") as f:\n",
    "        audio = None\n",
    "        start_and_end_time_set = set()\n",
    "        for line in tqdm(f.readlines()):\n",
    "            if line.strip().endswith(\".wav\"):\n",
    "                audio = line.strip()\n",
    "                start_and_end_time_set = set()\n",
    "                continue\n",
    "            elif (ret := extract_info(line)) is not None:\n",
    "                start_time, end_time, transcript, latency = ret\n",
    "                #print(transcript)\n",
    "                #if (start_time, end_time) in start_and_end_time_set:\n",
    "                #    continue\n",
    "                #else:\n",
    "                start_and_end_time_set.add((start_time, end_time))\n",
    "                df_new = pd.DataFrame([{\n",
    "                    'audio': audio,\n",
    "                    'start_time': start_time,\n",
    "                    'end_time': end_time,\n",
    "                    'transcript': transcript,\n",
    "                    'latency': latency}]\n",
    "                )\n",
    "                df = pd.concat([df, df_new], ignore_index=True)\n",
    "    \n",
    "    return df"
   ]
  },
  {
   "cell_type": "code",
   "execution_count": 3,
   "metadata": {
    "tags": []
   },
   "outputs": [
    {
     "name": "stderr",
     "output_type": "stream",
     "text": [
      "  0%|          | 0/2092353 [00:00<?, ?it/s]/var/folders/q8/v4sscjhd6szcgb36c6hggw5w0000gq/T/ipykernel_23912/2119370464.py:25: FutureWarning: The behavior of DataFrame concatenation with empty or all-NA entries is deprecated. In a future version, this will no longer exclude empty or all-NA columns when determining the result dtypes. To retain the old behavior, exclude the relevant entries before the concat operation.\n",
      "  df = pd.concat([df, df_new], ignore_index=True)\n",
      "100%|██████████| 2092353/2092353 [00:07<00:00, 265360.21it/s]\n"
     ]
    }
   ],
   "source": [
    "result_dir = \"benchmarking_results\"\n",
    "exp_name = \"fig1\"\n",
    "model_type = \"medium\"\n",
    "log_file = \"baseline_medium_ted-long-form-test-cut_step-100_ct-8_gt-3_mdr-0.5_no_tag.log\"\n",
    "\n",
    "file_path = os.path.join(result_dir, exp_name, model_type, log_file)\n",
    "\n",
    "df = process_log(file_path)"
   ]
  },
  {
   "cell_type": "code",
   "execution_count": 4,
   "metadata": {},
   "outputs": [
    {
     "name": "stdout",
     "output_type": "stream",
     "text": [
      "-0.27\n",
      "3.210989990100099\n"
     ]
    }
   ],
   "source": [
    "print(df.latency.min())\n",
    "print(df.latency.mean())"
   ]
  },
  {
   "cell_type": "code",
   "execution_count": 5,
   "metadata": {},
   "outputs": [
    {
     "data": {
      "image/png": "[encoded data removed]",
      "text/plain": [
       "<Figure size 640x480 with 1 Axes>"
      ]
     },
     "metadata": {},
     "output_type": "display_data"
    }
   ],
   "source": [
    "plt.hist(df.latency, bins=30, edgecolor='black')  # 'bins' controls the number of intervals\n",
    "plt.xlabel('Latency (s)')\n",
    "plt.ylabel('Frequency')\n",
    "plt.title('Distribution of Latency - WhisperFlow')\n",
    "plt.show()"
   ]
  },
  {
   "cell_type": "code",
   "execution_count": 6,
   "metadata": {},
   "outputs": [
    {
     "name": "stdout",
     "output_type": "stream",
     "text": [
      " i'd like to share with you a discovery that i made a few months ago while writing an article for italian wired i always keep my thesaurus handy whenever i'm writing anything but i'd already finished \n",
      "134531\n"
     ]
    }
   ],
   "source": [
    "final_res = ''\n",
    "for i in df['transcript']:\n",
    "    final_res += i\n",
    "print(final_res[:200])\n",
    "print(len(final_res))"
   ]
  },
  {
   "cell_type": "code",
   "execution_count": 7,
   "metadata": {},
   "outputs": [],
   "source": [
    "with open(\"tmp.txt\", \"w\") as file:\n",
    "    file.write(final_res)"
   ]
  },
  {
   "cell_type": "code",
   "execution_count": 8,
   "metadata": {},
   "outputs": [
    {
     "name": "stdout",
     "output_type": "stream",
     "text": [
      "Output: Average length of predictions and references: \n",
      "27389.0\n",
      "27848.0\n",
      "\n",
      "==================================================\n",
      "Normalisation: True\n",
      "Word Error Rate: 0.043753294675803904\n",
      "Accuracy: 95.6%\n",
      "==================================================\n",
      "\n",
      "\n",
      "Errors: /Users/rxpwang/miniconda3/lib/python3.12/site-packages/whisper/__init__.py:150: FutureWarning: You are using `torch.load` with `weights_only=False` (the current default value), which uses the default pickle module implicitly. It is possible to construct malicious pickle data which will execute arbitrary code during unpickling (See https://github.com/pytorch/pytorch/blob/main/SECURITY.md#untrusted-models for more details). In a future release, the default value for `weights_only` will be flipped to `True`. This limits the functions that could be executed during unpickling. Arbitrary objects will no longer be allowed to be loaded via this mode unless they are explicitly allowlisted by the user via `torch.serialization.add_safe_globals`. We recommend you start setting `weights_only=True` for any use case where you don't have full control of the loaded file. Please open an issue on GitHub for any issues related to this experimental feature.\n",
      "  checkpoint = torch.load(fp, map_location=device)\n",
      "\n"
     ]
    }
   ],
   "source": [
    "import subprocess\n",
    "command = [\n",
    "    \"python\", \n",
    "    \"wer/main.py\", \n",
    "    \"tmp.txt\", \n",
    "    \"samples/ted-lium-long-form-test-combined-transcript.txt\", \n",
    "    \"True\"\n",
    "]\n",
    "\n",
    "result = subprocess.run(command, capture_output=True, text=True)\n",
    "print(\"Output:\", result.stdout)\n",
    "print(\"Errors:\", result.stderr)"
   ]
  }
 ],
 "metadata": {
  "kernelspec": {
   "display_name": "base",
   "language": "python",
   "name": "python3"
  },
  "language_info": {
   "codemirror_mode": {
    "name": "ipython",
    "version": 3
   },
   "file_extension": ".py",
   "mimetype": "text/x-python",
   "name": "python",
   "nbconvert_exporter": "python",
   "pygments_lexer": "ipython3",
   "version": "3.12.2"
  }
 },
 "nbformat": 4,
 "nbformat_minor": 4
}
