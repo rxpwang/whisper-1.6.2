{
 "cells": [
  {
   "cell_type": "markdown",
   "metadata": {},
   "source": [
    "### Benchmark on the entire dataset"
   ]
  },
  {
   "cell_type": "markdown",
   "metadata": {},
   "source": [
    "#### result in multiple files under a directory"
   ]
  },
  {
   "cell_type": "code",
   "execution_count": 13,
   "metadata": {},
   "outputs": [],
   "source": [
    "import os\n",
    "import re\n",
    "import pandas as pd\n",
    "from matplotlib import pyplot as plt\n",
    "from tqdm import tqdm\n",
    "\n",
    "def extract_info(text):\n",
    "    line = text\n",
    "    if \"Start Time: \" in line and  \"End Time: \" in line and  \"Transcript: \" in line and \"Latency: \" in line:\n",
    "        start_time = float(line.split(\"Start Time: \")[1].split(\",\")[0])\n",
    "        end_time = float(line.split(\"End Time: \")[1].split(\",\")[0])\n",
    "        transcript = line.split(\"Transcript: \")[1].split(\", Latency: \")[0]  # Keep spaces as they are\n",
    "        latency = float(line.split(\"Latency: \")[1])\n",
    "        \n",
    "        return start_time, end_time, transcript, latency\n",
    "    else:\n",
    "        return None\n",
    "    \n",
    "def process_log(directory_path):\n",
    "    print(directory_path)\n",
    "    df = pd.DataFrame(columns=['audio', 'start_time', 'end_time', 'transcript', 'latency'])\n",
    "    files = os.listdir(directory_path)\n",
    "    file_names = [os.path.join(directory_path, f) for f in files if (os.path.isfile(os.path.join(directory_path, f)) and '_1500_serialized.log' in f)]\n",
    "    file_names.sort()\n",
    "    print(file_names)\n",
    "    print(\"The file count: \" + str(len(file_names)))\n",
    "    success_count = 0\n",
    "    for file_path in file_names:\n",
    "        with open(file_path, errors=\"ignore\") as f:\n",
    "            audio = None\n",
    "            start_and_end_time_set = set()\n",
    "            for line in tqdm(f.readlines()):\n",
    "                if line.strip().endswith(\".wav\"):\n",
    "                    audio = line.strip()\n",
    "                    start_and_end_time_set = set()\n",
    "                    continue\n",
    "                elif (ret := extract_info(line)) is not None:\n",
    "                    start_time, end_time, transcript, latency = ret\n",
    "                    #print(transcript)\n",
    "                    #if (start_time, end_time) in start_and_end_time_set:\n",
    "                    #    continue\n",
    "                    #else:\n",
    "                    start_and_end_time_set.add((start_time, end_time))\n",
    "                    df_new = pd.DataFrame([{\n",
    "                        'audio': audio,\n",
    "                        'start_time': start_time,\n",
    "                        'end_time': end_time,\n",
    "                        'transcript': transcript,\n",
    "                        'latency': latency}]\n",
    "                    )\n",
    "                    df = pd.concat([df, df_new], ignore_index=True)\n",
    "                elif \"Average latency\" in line:\n",
    "                    print(file_path)\n",
    "                    success_count += 1\n",
    "    print(\"The success file count: \" + str(success_count))\n",
    "    return df"
   ]
  },
  {
   "cell_type": "code",
   "execution_count": 14,
   "metadata": {},
   "outputs": [
    {
     "name": "stdout",
     "output_type": "stream",
     "text": [
      "benchmarking_results/whisperflow_serialized/medium/ted-long-form-test-cut\n",
      "['benchmarking_results/whisperflow_serialized/medium/ted-long-form-test-cut/AimeeMullins-merged.wavsegment_1_step_len_1500_serialized.log', 'benchmarking_results/whisperflow_serialized/medium/ted-long-form-test-cut/AimeeMullins-merged.wavsegment_2_step_len_1500_serialized.log', 'benchmarking_results/whisperflow_serialized/medium/ted-long-form-test-cut/AimeeMullins-merged.wavsegment_3_step_len_1500_serialized.log', 'benchmarking_results/whisperflow_serialized/medium/ted-long-form-test-cut/AimeeMullins-merged.wavsegment_4_step_len_1500_serialized.log', 'benchmarking_results/whisperflow_serialized/medium/ted-long-form-test-cut/BillGates-merged.wavsegment_1_step_len_1500_serialized.log', 'benchmarking_results/whisperflow_serialized/medium/ted-long-form-test-cut/BillGates-merged.wavsegment_2_step_len_1500_serialized.log', 'benchmarking_results/whisperflow_serialized/medium/ted-long-form-test-cut/BillGates-merged.wavsegment_3_step_len_1500_serialized.log', 'benchmarking_results/whisperflow_serialized/medium/ted-long-form-test-cut/BillGates-merged.wavsegment_4_step_len_1500_serialized.log', 'benchmarking_results/whisperflow_serialized/medium/ted-long-form-test-cut/BillGates-merged.wavsegment_5_step_len_1500_serialized.log', 'benchmarking_results/whisperflow_serialized/medium/ted-long-form-test-cut/DanBarber-merged.wavsegment_1_step_len_1500_serialized.log', 'benchmarking_results/whisperflow_serialized/medium/ted-long-form-test-cut/DanBarber-merged.wavsegment_2_step_len_1500_serialized.log', 'benchmarking_results/whisperflow_serialized/medium/ted-long-form-test-cut/DanBarber-merged.wavsegment_3_step_len_1500_serialized.log', 'benchmarking_results/whisperflow_serialized/medium/ted-long-form-test-cut/DanielKahneman-merged.wavsegment_1_step_len_1500_serialized.log', 'benchmarking_results/whisperflow_serialized/medium/ted-long-form-test-cut/DanielKahneman-merged.wavsegment_2_step_len_1500_serialized.log', 'benchmarking_results/whisperflow_serialized/medium/ted-long-form-test-cut/DanielKahneman-merged.wavsegment_3_step_len_1500_serialized.log', 'benchmarking_results/whisperflow_serialized/medium/ted-long-form-test-cut/DanielKahneman-merged.wavsegment_4_step_len_1500_serialized.log', 'benchmarking_results/whisperflow_serialized/medium/ted-long-form-test-cut/EricMead_2009P_EricMead-merged.wavsegment_1_step_len_1500_serialized.log', 'benchmarking_results/whisperflow_serialized/medium/ted-long-form-test-cut/EricMead_2009P_EricMead-merged.wavsegment_2_step_len_1500_serialized.log', 'benchmarking_results/whisperflow_serialized/medium/ted-long-form-test-cut/GaryFlake-merged.wavsegment_1_step_len_1500_serialized.log', 'benchmarking_results/whisperflow_serialized/medium/ted-long-form-test-cut/JamesCameron-merged.wavsegment_1_step_len_1500_serialized.log', 'benchmarking_results/whisperflow_serialized/medium/ted-long-form-test-cut/JamesCameron-merged.wavsegment_2_step_len_1500_serialized.log', 'benchmarking_results/whisperflow_serialized/medium/ted-long-form-test-cut/JamesCameron-merged.wavsegment_3_step_len_1500_serialized.log', 'benchmarking_results/whisperflow_serialized/medium/ted-long-form-test-cut/JamesCameron-merged.wavsegment_4_step_len_1500_serialized.log', 'benchmarking_results/whisperflow_serialized/medium/ted-long-form-test-cut/JaneMcGonigal-merged.wavsegment_1_step_len_1500_serialized.log', 'benchmarking_results/whisperflow_serialized/medium/ted-long-form-test-cut/JaneMcGonigal-merged.wavsegment_2_step_len_1500_serialized.log', 'benchmarking_results/whisperflow_serialized/medium/ted-long-form-test-cut/JaneMcGonigal-merged.wavsegment_3_step_len_1500_serialized.log', 'benchmarking_results/whisperflow_serialized/medium/ted-long-form-test-cut/JaneMcGonigal-merged.wavsegment_4_step_len_1500_serialized.log', 'benchmarking_results/whisperflow_serialized/medium/ted-long-form-test-cut/MichaelSpecter-merged.wavsegment_1_step_len_1500_serialized.log', 'benchmarking_results/whisperflow_serialized/medium/ted-long-form-test-cut/MichaelSpecter-merged.wavsegment_2_step_len_1500_serialized.log', 'benchmarking_results/whisperflow_serialized/medium/ted-long-form-test-cut/MichaelSpecter-merged.wavsegment_3_step_len_1500_serialized.log', 'benchmarking_results/whisperflow_serialized/medium/ted-long-form-test-cut/RobertGupta-merged.wavsegment_1_step_len_1500_serialized.log']\n",
      "The file count: 31\n"
     ]
    },
    {
     "name": "stderr",
     "output_type": "stream",
     "text": [
      "  0%|          | 0/37325 [00:00<?, ?it/s]/var/folders/q8/v4sscjhd6szcgb36c6hggw5w0000gq/T/ipykernel_45744/1313081779.py:51: FutureWarning: The behavior of DataFrame concatenation with empty or all-NA entries is deprecated. In a future version, this will no longer exclude empty or all-NA columns when determining the result dtypes. To retain the old behavior, exclude the relevant entries before the concat operation.\n",
      "  df = pd.concat([df, df_new], ignore_index=True)\n",
      " 99%|█████████▉| 36869/37325 [00:00<00:00, 368601.59it/s]"
     ]
    },
    {
     "name": "stdout",
     "output_type": "stream",
     "text": [
      "benchmarking_results/whisperflow_serialized/medium/ted-long-form-test-cut/AimeeMullins-merged.wavsegment_1_step_len_1500_serialized.log"
     ]
    },
    {
     "name": "stderr",
     "output_type": "stream",
     "text": [
      "100%|██████████| 37325/37325 [00:00<00:00, 144867.66it/s]\n"
     ]
    },
    {
     "name": "stdout",
     "output_type": "stream",
     "text": [
      "\n"
     ]
    },
    {
     "name": "stderr",
     "output_type": "stream",
     "text": [
      "100%|██████████| 37264/37264 [00:00<00:00, 88919.89it/s] "
     ]
    },
    {
     "name": "stdout",
     "output_type": "stream",
     "text": [
      "benchmarking_results/whisperflow_serialized/medium/ted-long-form-test-cut/AimeeMullins-merged.wavsegment_2_step_len_1500_serialized.log\n"
     ]
    },
    {
     "name": "stderr",
     "output_type": "stream",
     "text": [
      "\n",
      "100%|██████████| 36132/36132 [00:00<00:00, 63648.90it/s] "
     ]
    },
    {
     "name": "stdout",
     "output_type": "stream",
     "text": [
      "benchmarking_results/whisperflow_serialized/medium/ted-long-form-test-cut/AimeeMullins-merged.wavsegment_3_step_len_1500_serialized.log\n"
     ]
    },
    {
     "name": "stderr",
     "output_type": "stream",
     "text": [
      "\n",
      "100%|██████████| 44558/44558 [00:00<00:00, 50348.36it/s] \n"
     ]
    },
    {
     "name": "stdout",
     "output_type": "stream",
     "text": [
      "benchmarking_results/whisperflow_serialized/medium/ted-long-form-test-cut/AimeeMullins-merged.wavsegment_4_step_len_1500_serialized.log\n"
     ]
    },
    {
     "name": "stderr",
     "output_type": "stream",
     "text": [
      "100%|██████████| 40133/40133 [00:01<00:00, 39152.16it/s] \n"
     ]
    },
    {
     "name": "stdout",
     "output_type": "stream",
     "text": [
      "benchmarking_results/whisperflow_serialized/medium/ted-long-form-test-cut/BillGates-merged.wavsegment_1_step_len_1500_serialized.log\n"
     ]
    },
    {
     "name": "stderr",
     "output_type": "stream",
     "text": [
      "100%|██████████| 39251/39251 [00:01<00:00, 32001.41it/s] \n"
     ]
    },
    {
     "name": "stdout",
     "output_type": "stream",
     "text": [
      "benchmarking_results/whisperflow_serialized/medium/ted-long-form-test-cut/BillGates-merged.wavsegment_2_step_len_1500_serialized.log\n"
     ]
    },
    {
     "name": "stderr",
     "output_type": "stream",
     "text": [
      "100%|██████████| 38421/38421 [00:01<00:00, 24885.81it/s] \n"
     ]
    },
    {
     "name": "stdout",
     "output_type": "stream",
     "text": [
      "benchmarking_results/whisperflow_serialized/medium/ted-long-form-test-cut/BillGates-merged.wavsegment_3_step_len_1500_serialized.log\n"
     ]
    },
    {
     "name": "stderr",
     "output_type": "stream",
     "text": [
      "100%|██████████| 39769/39769 [00:01<00:00, 22422.60it/s] \n"
     ]
    },
    {
     "name": "stdout",
     "output_type": "stream",
     "text": [
      "benchmarking_results/whisperflow_serialized/medium/ted-long-form-test-cut/BillGates-merged.wavsegment_4_step_len_1500_serialized.log\n"
     ]
    },
    {
     "name": "stderr",
     "output_type": "stream",
     "text": [
      "100%|██████████| 42947/42947 [00:02<00:00, 19587.37it/s] \n"
     ]
    },
    {
     "name": "stdout",
     "output_type": "stream",
     "text": [
      "benchmarking_results/whisperflow_serialized/medium/ted-long-form-test-cut/BillGates-merged.wavsegment_5_step_len_1500_serialized.log\n"
     ]
    },
    {
     "name": "stderr",
     "output_type": "stream",
     "text": [
      "100%|██████████| 40335/40335 [00:02<00:00, 17001.33it/s] \n"
     ]
    },
    {
     "name": "stdout",
     "output_type": "stream",
     "text": [
      "benchmarking_results/whisperflow_serialized/medium/ted-long-form-test-cut/DanBarber-merged.wavsegment_1_step_len_1500_serialized.log\n"
     ]
    },
    {
     "name": "stderr",
     "output_type": "stream",
     "text": [
      "100%|██████████| 41497/41497 [00:02<00:00, 15837.17it/s] \n"
     ]
    },
    {
     "name": "stdout",
     "output_type": "stream",
     "text": [
      "benchmarking_results/whisperflow_serialized/medium/ted-long-form-test-cut/DanBarber-merged.wavsegment_2_step_len_1500_serialized.log\n"
     ]
    },
    {
     "name": "stderr",
     "output_type": "stream",
     "text": [
      "100%|██████████| 30861/30861 [00:02<00:00, 14439.07it/s] \n"
     ]
    },
    {
     "name": "stdout",
     "output_type": "stream",
     "text": [
      "benchmarking_results/whisperflow_serialized/medium/ted-long-form-test-cut/DanBarber-merged.wavsegment_3_step_len_1500_serialized.log\n"
     ]
    },
    {
     "name": "stderr",
     "output_type": "stream",
     "text": [
      "100%|██████████| 38700/38700 [00:02<00:00, 14618.86it/s] \n"
     ]
    },
    {
     "name": "stdout",
     "output_type": "stream",
     "text": [
      "benchmarking_results/whisperflow_serialized/medium/ted-long-form-test-cut/DanielKahneman-merged.wavsegment_1_step_len_1500_serialized.log\n"
     ]
    },
    {
     "name": "stderr",
     "output_type": "stream",
     "text": [
      "100%|██████████| 39580/39580 [00:03<00:00, 13084.25it/s] \n"
     ]
    },
    {
     "name": "stdout",
     "output_type": "stream",
     "text": [
      "benchmarking_results/whisperflow_serialized/medium/ted-long-form-test-cut/DanielKahneman-merged.wavsegment_2_step_len_1500_serialized.log\n"
     ]
    },
    {
     "name": "stderr",
     "output_type": "stream",
     "text": [
      "100%|██████████| 39400/39400 [00:03<00:00, 12864.01it/s] \n"
     ]
    },
    {
     "name": "stdout",
     "output_type": "stream",
     "text": [
      "benchmarking_results/whisperflow_serialized/medium/ted-long-form-test-cut/DanielKahneman-merged.wavsegment_3_step_len_1500_serialized.log\n"
     ]
    },
    {
     "name": "stderr",
     "output_type": "stream",
     "text": [
      "100%|██████████| 24828/24828 [00:02<00:00, 12376.36it/s] \n"
     ]
    },
    {
     "name": "stdout",
     "output_type": "stream",
     "text": [
      "benchmarking_results/whisperflow_serialized/medium/ted-long-form-test-cut/DanielKahneman-merged.wavsegment_4_step_len_1500_serialized.log\n"
     ]
    },
    {
     "name": "stderr",
     "output_type": "stream",
     "text": [
      "100%|██████████| 44043/44043 [00:04<00:00, 10577.70it/s] \n"
     ]
    },
    {
     "name": "stdout",
     "output_type": "stream",
     "text": [
      "benchmarking_results/whisperflow_serialized/medium/ted-long-form-test-cut/EricMead_2009P_EricMead-merged.wavsegment_1_step_len_1500_serialized.log\n"
     ]
    },
    {
     "name": "stderr",
     "output_type": "stream",
     "text": [
      "100%|██████████| 24166/24166 [00:02<00:00, 9792.05it/s]  \n"
     ]
    },
    {
     "name": "stdout",
     "output_type": "stream",
     "text": [
      "benchmarking_results/whisperflow_serialized/medium/ted-long-form-test-cut/EricMead_2009P_EricMead-merged.wavsegment_2_step_len_1500_serialized.log\n"
     ]
    },
    {
     "name": "stderr",
     "output_type": "stream",
     "text": [
      "100%|██████████| 49742/49742 [00:05<00:00, 9457.15it/s]  \n"
     ]
    },
    {
     "name": "stdout",
     "output_type": "stream",
     "text": [
      "benchmarking_results/whisperflow_serialized/medium/ted-long-form-test-cut/GaryFlake-merged.wavsegment_1_step_len_1500_serialized.log\n"
     ]
    },
    {
     "name": "stderr",
     "output_type": "stream",
     "text": [
      "100%|██████████| 39368/39368 [00:04<00:00, 8904.53it/s]  \n"
     ]
    },
    {
     "name": "stdout",
     "output_type": "stream",
     "text": [
      "benchmarking_results/whisperflow_serialized/medium/ted-long-form-test-cut/JamesCameron-merged.wavsegment_1_step_len_1500_serialized.log\n"
     ]
    },
    {
     "name": "stderr",
     "output_type": "stream",
     "text": [
      "100%|██████████| 42269/42269 [00:05<00:00, 7999.74it/s]  \n"
     ]
    },
    {
     "name": "stdout",
     "output_type": "stream",
     "text": [
      "benchmarking_results/whisperflow_serialized/medium/ted-long-form-test-cut/JamesCameron-merged.wavsegment_2_step_len_1500_serialized.log\n"
     ]
    },
    {
     "name": "stderr",
     "output_type": "stream",
     "text": [
      "100%|██████████| 40696/40696 [00:05<00:00, 8060.89it/s]  \n"
     ]
    },
    {
     "name": "stdout",
     "output_type": "stream",
     "text": [
      "benchmarking_results/whisperflow_serialized/medium/ted-long-form-test-cut/JamesCameron-merged.wavsegment_3_step_len_1500_serialized.log\n"
     ]
    },
    {
     "name": "stderr",
     "output_type": "stream",
     "text": [
      "100%|██████████| 10554/10554 [00:01<00:00, 8748.68it/s] \n"
     ]
    },
    {
     "name": "stdout",
     "output_type": "stream",
     "text": [
      "benchmarking_results/whisperflow_serialized/medium/ted-long-form-test-cut/JamesCameron-merged.wavsegment_4_step_len_1500_serialized.log\n"
     ]
    },
    {
     "name": "stderr",
     "output_type": "stream",
     "text": [
      "100%|██████████| 43265/43265 [00:05<00:00, 7330.71it/s]  \n"
     ]
    },
    {
     "name": "stdout",
     "output_type": "stream",
     "text": [
      "benchmarking_results/whisperflow_serialized/medium/ted-long-form-test-cut/JaneMcGonigal-merged.wavsegment_1_step_len_1500_serialized.log\n"
     ]
    },
    {
     "name": "stderr",
     "output_type": "stream",
     "text": [
      "100%|██████████| 43714/43714 [00:05<00:00, 7363.93it/s]  \n"
     ]
    },
    {
     "name": "stdout",
     "output_type": "stream",
     "text": [
      "benchmarking_results/whisperflow_serialized/medium/ted-long-form-test-cut/JaneMcGonigal-merged.wavsegment_2_step_len_1500_serialized.log\n"
     ]
    },
    {
     "name": "stderr",
     "output_type": "stream",
     "text": [
      "100%|██████████| 42155/42155 [00:06<00:00, 6761.60it/s]  \n"
     ]
    },
    {
     "name": "stdout",
     "output_type": "stream",
     "text": [
      "benchmarking_results/whisperflow_serialized/medium/ted-long-form-test-cut/JaneMcGonigal-merged.wavsegment_3_step_len_1500_serialized.log\n"
     ]
    },
    {
     "name": "stderr",
     "output_type": "stream",
     "text": [
      "100%|██████████| 39793/39793 [00:06<00:00, 6564.21it/s]  \n"
     ]
    },
    {
     "name": "stdout",
     "output_type": "stream",
     "text": [
      "benchmarking_results/whisperflow_serialized/medium/ted-long-form-test-cut/JaneMcGonigal-merged.wavsegment_4_step_len_1500_serialized.log\n"
     ]
    },
    {
     "name": "stderr",
     "output_type": "stream",
     "text": [
      "100%|██████████| 44740/44740 [00:07<00:00, 5794.49it/s]  \n"
     ]
    },
    {
     "name": "stdout",
     "output_type": "stream",
     "text": [
      "benchmarking_results/whisperflow_serialized/medium/ted-long-form-test-cut/MichaelSpecter-merged.wavsegment_1_step_len_1500_serialized.log\n"
     ]
    },
    {
     "name": "stderr",
     "output_type": "stream",
     "text": [
      "100%|██████████| 44877/44877 [00:07<00:00, 5800.80it/s]  \n"
     ]
    },
    {
     "name": "stdout",
     "output_type": "stream",
     "text": [
      "benchmarking_results/whisperflow_serialized/medium/ted-long-form-test-cut/MichaelSpecter-merged.wavsegment_2_step_len_1500_serialized.log\n"
     ]
    },
    {
     "name": "stderr",
     "output_type": "stream",
     "text": [
      "100%|██████████| 47611/47611 [00:08<00:00, 5777.13it/s]  \n"
     ]
    },
    {
     "name": "stdout",
     "output_type": "stream",
     "text": [
      "benchmarking_results/whisperflow_serialized/medium/ted-long-form-test-cut/MichaelSpecter-merged.wavsegment_3_step_len_1500_serialized.log\n"
     ]
    },
    {
     "name": "stderr",
     "output_type": "stream",
     "text": [
      "100%|██████████| 45838/45838 [00:07<00:00, 5825.86it/s]  "
     ]
    },
    {
     "name": "stdout",
     "output_type": "stream",
     "text": [
      "benchmarking_results/whisperflow_serialized/medium/ted-long-form-test-cut/RobertGupta-merged.wavsegment_1_step_len_1500_serialized.log\n",
      "The success file count: 31\n"
     ]
    },
    {
     "name": "stderr",
     "output_type": "stream",
     "text": [
      "\n"
     ]
    }
   ],
   "source": [
    "result_dir = \"benchmarking_results\"\n",
    "exp_name = \"whisperflow_serialized\"\n",
    "model_type = \"medium\"\n",
    "log_file = \"ted-long-form-test-cut\"\n",
    "\n",
    "file_path = os.path.join(result_dir, exp_name, model_type, log_file)\n",
    "\n",
    "df = process_log(file_path)"
   ]
  },
  {
   "cell_type": "code",
   "execution_count": 15,
   "metadata": {},
   "outputs": [
    {
     "name": "stdout",
     "output_type": "stream",
     "text": [
      "-0.45\n",
      "3.0906173605283316\n"
     ]
    }
   ],
   "source": [
    "print(df.latency.min())\n",
    "print(df.latency.mean())"
   ]
  },
  {
   "cell_type": "code",
   "execution_count": 16,
   "metadata": {},
   "outputs": [
    {
     "data": {
      "image/png": "[encoded data removed]",
      "text/plain": [
       "<Figure size 640x480 with 1 Axes>"
      ]
     },
     "metadata": {},
     "output_type": "display_data"
    }
   ],
   "source": [
    "plt.hist(df.latency, bins=30, edgecolor='black')  # 'bins' controls the number of intervals\n",
    "plt.xlabel('Latency (s)')\n",
    "plt.ylabel('Frequency')\n",
    "plt.title('Distribution of Latency - WhisperFlow')\n",
    "plt.show()"
   ]
  },
  {
   "cell_type": "code",
   "execution_count": 17,
   "metadata": {},
   "outputs": [
    {
     "name": "stdout",
     "output_type": "stream",
     "text": [
      " i'd like to share with you a discovery that i made a few months ago while writing an article for italianwired i always keep my thesaurus handy whenever i'm writing anything but i'd already finished e\n",
      "134384\n"
     ]
    }
   ],
   "source": [
    "final_res = ''\n",
    "for i in df['transcript']:\n",
    "    final_res += i\n",
    "print(final_res[:200])\n",
    "print(len(final_res))\n",
    "\n",
    "with open(\"tmp.txt\", \"w\") as file:\n",
    "    file.write(final_res)"
   ]
  },
  {
   "cell_type": "code",
   "execution_count": 18,
   "metadata": {},
   "outputs": [
    {
     "name": "stdout",
     "output_type": "stream",
     "text": [
      "Output: Average length of predictions and references: \n",
      "27509.0\n",
      "27848.0\n",
      "\n",
      "==================================================\n",
      "Normalisation: True\n",
      "Word Error Rate: 0.05026733940808796\n",
      "Accuracy: 95.0%\n",
      "==================================================\n",
      "\n",
      "\n",
      "Errors: /Users/rxpwang/miniconda3/lib/python3.12/site-packages/whisper/__init__.py:150: FutureWarning: You are using `torch.load` with `weights_only=False` (the current default value), which uses the default pickle module implicitly. It is possible to construct malicious pickle data which will execute arbitrary code during unpickling (See https://github.com/pytorch/pytorch/blob/main/SECURITY.md#untrusted-models for more details). In a future release, the default value for `weights_only` will be flipped to `True`. This limits the functions that could be executed during unpickling. Arbitrary objects will no longer be allowed to be loaded via this mode unless they are explicitly allowlisted by the user via `torch.serialization.add_safe_globals`. We recommend you start setting `weights_only=True` for any use case where you don't have full control of the loaded file. Please open an issue on GitHub for any issues related to this experimental feature.\n",
      "  checkpoint = torch.load(fp, map_location=device)\n",
      "\n"
     ]
    }
   ],
   "source": [
    "import subprocess\n",
    "command = [\n",
    "    \"python\", \n",
    "    \"wer/main.py\", \n",
    "    \"tmp.txt\", \n",
    "    \"samples/ted-lium-long-form-test-combined-transcript.txt\", \n",
    "    \"True\"\n",
    "]\n",
    "\n",
    "result = subprocess.run(command, capture_output=True, text=True)\n",
    "print(\"Output:\", result.stdout)\n",
    "print(\"Errors:\", result.stderr)"
   ]
  }
 ],
 "metadata": {
  "kernelspec": {
   "display_name": "base",
   "language": "python",
   "name": "python3"
  },
  "language_info": {
   "codemirror_mode": {
    "name": "ipython",
    "version": 3
   },
   "file_extension": ".py",
   "mimetype": "text/x-python",
   "name": "python",
   "nbconvert_exporter": "python",
   "pygments_lexer": "ipython3",
   "version": "3.12.2"
  }
 },
 "nbformat": 4,
 "nbformat_minor": 4
}
