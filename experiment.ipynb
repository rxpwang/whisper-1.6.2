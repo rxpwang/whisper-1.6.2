{
 "cells": [
  {
   "cell_type": "code",
   "execution_count": 22,
   "metadata": {},
   "outputs": [],
   "source": [
    "import numpy as np\n",
    "from collections import defaultdict\n",
    "\n",
    "def get_exp_mean_and_std(data):\n",
    "    '''\n",
    "    Put the result of the following command in `data`\n",
    "    grep -rni \"average latency\" . | sort -t: -k1,1\n",
    "    '''\n",
    "    exp_to_data = defaultdict(list)\n",
    "    for line in data.split(\"\\n\"):\n",
    "        if not line:\n",
    "            continue\n",
    "        exp_name = line.split(\"run\")[0]\n",
    "        latency = eval(line.split(\":\")[-1].strip())\n",
    "        exp_to_data[exp_name].append(latency)\n",
    "        \n",
    "    for exp_name, latencies in exp_to_data.items():\n",
    "        print(exp_name, \" \" * (80-len(exp_name)), \"%.1f (+-%.1f) ms\" % (np.mean(latencies)*1000, np.std(latencies)*1000))"
   ]
  },
  {
   "cell_type": "code",
   "execution_count": 7,
   "metadata": {},
   "outputs": [],
   "source": [
    "data=\"\"\"\n",
    "./pipeline-v1_medium_bernie4min.wav_step-10_ct-7_gt-3_mdr-0.25_no_tag_run-1.log:244778:Average latency: 3.05732\n",
    "./pipeline-v1_medium_bernie4min.wav_step-10_ct-7_gt-3_mdr-0.25_no_tag_run-2.log:234752:Average latency: 2.68038\n",
    "./pipeline-v1_medium_bernie4min.wav_step-10_ct-7_gt-3_mdr-0.25_no_tag_run-3.log:230508:Average latency: 2.79708\n",
    "./pipeline-v1_medium_bernie4min.wav_step-10_ct-7_gt-3_mdr-0.25_no_tag_run-4.log:228959:Average latency: 2.61554\n",
    "./pipeline-v1_medium_bernie4min.wav_step-10_ct-7_gt-3_mdr-0.25_no_tag_run-5.log:230858:Average latency: 2.98832\n",
    "./pipeline-v1_medium_bernie4min.wav_step-10_ct-7_gt-3_mdr-0.25_with_tag_run-1.log:386132:Average latency: 1.60828\n",
    "./pipeline-v1_medium_bernie4min.wav_step-10_ct-7_gt-3_mdr-0.25_with_tag_run-2.log:373520:Average latency: 1.74307\n",
    "./pipeline-v1_medium_bernie4min.wav_step-10_ct-7_gt-3_mdr-0.25_with_tag_run-3.log:378914:Average latency: 1.15856\n",
    "./pipeline-v1_medium_bernie4min.wav_step-10_ct-7_gt-3_mdr-0.25_with_tag_run-4.log:383075:Average latency: 1.64015\n",
    "./pipeline-v1_medium_bernie4min.wav_step-10_ct-7_gt-3_mdr-0.25_with_tag_run-5.log:365563:Average latency: 1.52135\n",
    "./pipeline-v1_medium_bernie4min.wav_step-10_ct-7_gt-3_mdr-0.33_no_tag_run-1.log:227289:Average latency: 2.92534\n",
    "./pipeline-v1_medium_bernie4min.wav_step-10_ct-7_gt-3_mdr-0.33_no_tag_run-2.log:227633:Average latency: 2.81317\n",
    "./pipeline-v1_medium_bernie4min.wav_step-10_ct-7_gt-3_mdr-0.33_no_tag_run-3.log:238557:Average latency: 3.14652\n",
    "./pipeline-v1_medium_bernie4min.wav_step-10_ct-7_gt-3_mdr-0.33_no_tag_run-4.log:230570:Average latency: 2.82484\n",
    "./pipeline-v1_medium_bernie4min.wav_step-10_ct-7_gt-3_mdr-0.33_no_tag_run-5.log:234644:Average latency: 3.34868\n",
    "./pipeline-v1_medium_bernie4min.wav_step-10_ct-7_gt-3_mdr-0.33_with_tag_run-1.log:377890:Average latency: 1.85893\n",
    "./pipeline-v1_medium_bernie4min.wav_step-10_ct-7_gt-3_mdr-0.33_with_tag_run-2.log:376173:Average latency: 1.47816\n",
    "./pipeline-v1_medium_bernie4min.wav_step-10_ct-7_gt-3_mdr-0.33_with_tag_run-3.log:372686:Average latency: 1.35359\n",
    "./pipeline-v1_medium_bernie4min.wav_step-10_ct-7_gt-3_mdr-0.33_with_tag_run-4.log:371758:Average latency: 1.34957\n",
    "./pipeline-v1_medium_bernie4min.wav_step-10_ct-7_gt-3_mdr-0.33_with_tag_run-5.log:369684:Average latency: 1.52212\n",
    "./pipeline-v1_medium_bernie4min.wav_step-10_ct-7_gt-3_mdr-0.5_no_tag_run-1.log:222414:Average latency: 2.98042\n",
    "./pipeline-v1_medium_bernie4min.wav_step-10_ct-7_gt-3_mdr-0.5_no_tag_run-2.log:229482:Average latency: 3.25552\n",
    "./pipeline-v1_medium_bernie4min.wav_step-10_ct-7_gt-3_mdr-0.5_no_tag_run-3.log:219463:Average latency: 2.92907\n",
    "./pipeline-v1_medium_bernie4min.wav_step-10_ct-7_gt-3_mdr-0.5_no_tag_run-5.log:221951:Average latency: 2.93489\n",
    "./pipeline-v1_medium_bernie4min.wav_step-10_ct-7_gt-3_mdr-0.5_with_tag_run-2.log:361662:Average latency: 1.46172\n",
    "./pipeline-v1_medium_bernie4min.wav_step-10_ct-7_gt-3_mdr-0.5_with_tag_run-3.log:358449:Average latency: 1.32622\n",
    "./pipeline-v1_medium_bernie4min.wav_step-10_ct-7_gt-3_mdr-0.5_with_tag_run-4.log:372772:Average latency: 1.50985\n",
    "./pipeline-v1_medium_bernie4min.wav_step-10_ct-7_gt-3_mdr-0.5_with_tag_run-5.log:365631:Average latency: 1.52288\n",
    "./pipeline-v1_medium_bernie4min.wav_step-10_ct-7_gt-3_mdr-0.67_no_tag_run-2.log:213092:Average latency: 3.06248\n",
    "./pipeline-v1_medium_bernie4min.wav_step-10_ct-7_gt-3_mdr-0.67_no_tag_run-3.log:218168:Average latency: 3.25072\n",
    "./pipeline-v1_medium_bernie4min.wav_step-10_ct-7_gt-3_mdr-0.67_no_tag_run-4.log:211021:Average latency: 2.83694\n",
    "./pipeline-v1_medium_bernie4min.wav_step-10_ct-7_gt-3_mdr-0.67_no_tag_run-5.log:288504:Average latency: 3.23355\n",
    "./pipeline-v1_medium_bernie4min.wav_step-10_ct-7_gt-3_mdr-0.67_with_tag_run-1.log:340648:Average latency: 1.4058\n",
    "./pipeline-v1_medium_bernie4min.wav_step-10_ct-7_gt-3_mdr-0.67_with_tag_run-3.log:358008:Average latency: 1.72636\n",
    "./pipeline-v1_medium_bernie4min.wav_step-10_ct-7_gt-3_mdr-0.67_with_tag_run-5.log:343095:Average latency: 1.69269\n",
    "./pipeline-v1_medium_bernie4min.wav_step-10_ct-7_gt-3_mdr-0.75_no_tag_run-1.log:211012:Average latency: 3.38689\n",
    "./pipeline-v1_medium_bernie4min.wav_step-10_ct-7_gt-3_mdr-0.75_no_tag_run-2.log:223097:Average latency: 3.46542\n",
    "./pipeline-v1_medium_bernie4min.wav_step-10_ct-7_gt-3_mdr-0.75_no_tag_run-3.log:214555:Average latency: 3.25079\n",
    "./pipeline-v1_medium_bernie4min.wav_step-10_ct-7_gt-3_mdr-0.75_no_tag_run-4.log:224677:Average latency: 3.55557\n",
    "./pipeline-v1_medium_bernie4min.wav_step-10_ct-7_gt-3_mdr-0.75_no_tag_run-5.log:210821:Average latency: 3.55336\n",
    "./pipeline-v1_medium_bernie4min.wav_step-10_ct-7_gt-3_mdr-0.75_with_tag_run-1.log:321855:Average latency: 1.68794\n",
    "./pipeline-v1_medium_bernie4min.wav_step-10_ct-7_gt-3_mdr-0.75_with_tag_run-2.log:335473:Average latency: 1.64012\n",
    "./pipeline-v1_medium_bernie4min.wav_step-10_ct-7_gt-3_mdr-0.75_with_tag_run-3.log:325072:Average latency: 1.62656\n",
    "./pipeline-v1_medium_bernie4min.wav_step-10_ct-7_gt-3_mdr-0.75_with_tag_run-4.log:329912:Average latency: 1.82945\n",
    "./pipeline-v1_medium_bernie4min.wav_step-10_ct-7_gt-3_mdr-0.75_with_tag_run-5.log:346280:Average latency: 2.25044\n",
    "\"\"\""
   ]
  },
  {
   "cell_type": "code",
   "execution_count": 8,
   "metadata": {},
   "outputs": [
    {
     "name": "stdout",
     "output_type": "stream",
     "text": [
      "./pipeline-v1_medium_bernie4min.wav_step-10_ct-7_gt-3_mdr-0.25_no_tag_            2827.7 (+-171.0) ms\n",
      "./pipeline-v1_medium_bernie4min.wav_step-10_ct-7_gt-3_mdr-0.25_with_tag_          1534.3 (+-200.8) ms\n",
      "./pipeline-v1_medium_bernie4min.wav_step-10_ct-7_gt-3_mdr-0.33_no_tag_            3011.7 (+-206.6) ms\n",
      "./pipeline-v1_medium_bernie4min.wav_step-10_ct-7_gt-3_mdr-0.33_with_tag_          1512.5 (+-186.1) ms\n",
      "./pipeline-v1_medium_bernie4min.wav_step-10_ct-7_gt-3_mdr-0.5_no_tag_             3025.0 (+-134.6) ms\n",
      "./pipeline-v1_medium_bernie4min.wav_step-10_ct-7_gt-3_mdr-0.5_with_tag_           1455.2 (+-77.9) ms\n",
      "./pipeline-v1_medium_bernie4min.wav_step-10_ct-7_gt-3_mdr-0.67_no_tag_            3095.9 (+-166.7) ms\n",
      "./pipeline-v1_medium_bernie4min.wav_step-10_ct-7_gt-3_mdr-0.67_with_tag_          1608.3 (+-143.8) ms\n",
      "./pipeline-v1_medium_bernie4min.wav_step-10_ct-7_gt-3_mdr-0.75_no_tag_            3442.4 (+-114.4) ms\n",
      "./pipeline-v1_medium_bernie4min.wav_step-10_ct-7_gt-3_mdr-0.75_with_tag_          1806.9 (+-233.1) ms\n"
     ]
    }
   ],
   "source": [
    "get_exp_mean_and_std(data)"
   ]
  },
  {
   "cell_type": "markdown",
   "metadata": {},
   "source": [
    "### Benchmark on the entire dataset"
   ]
  },
  {
   "cell_type": "code",
   "execution_count": 56,
   "metadata": {},
   "outputs": [],
   "source": [
    "import os\n",
    "import re\n",
    "import pandas as pd\n",
    "from matplotlib import pyplot as plt\n",
    "from tqdm import tqdm\n",
    "\n",
    "def extract_info(text):\n",
    "    pattern = r'Start Time:\\s*([\\d.]+),\\s*End Time:\\s*([\\d.]+),\\s*Transcript:\\s*([\\w.]+),\\s*Latency:\\s*([\\d.]+)'\n",
    "    pattern = re.compile(pattern)\n",
    "    match = pattern.search(text)\n",
    "    if match:\n",
    "        start_time = match.group(1)\n",
    "        end_time = match.group(2)\n",
    "        transcript = match.group(3)\n",
    "        latency = match.group(4)\n",
    "        \n",
    "        return start_time, end_time, transcript, latency\n",
    "    else:\n",
    "        return None\n",
    "    "
   ]
  },
  {
   "cell_type": "code",
   "execution_count": 89,
   "metadata": {},
   "outputs": [],
   "source": [
    "def process_log(file_path):\n",
    "    df = pd.DataFrame(columns=['audio', 'start_time', 'end_time', 'transcript', 'latency'])\n",
    "    with open(file_path, errors=\"ignore\") as f:\n",
    "        audio = None\n",
    "        start_and_end_time_set = set()\n",
    "        for line in tqdm(f.readlines()):\n",
    "            if line.strip().endswith(\".wav\"):\n",
    "                audio = line.strip()\n",
    "                start_and_end_time_set = set()\n",
    "                continue\n",
    "            elif (ret := extract_info(line)) is not None:\n",
    "                start_time, end_time, transcript, latency = ret\n",
    "                if (start_time, end_time) in start_and_end_time_set:\n",
    "                    continue\n",
    "                else:\n",
    "                    start_and_end_time_set.add((start_time, end_time))\n",
    "                df_new = pd.DataFrame([{\n",
    "                    'audio': audio,\n",
    "                    'start_time': start_time,\n",
    "                    'end_time': end_time,\n",
    "                    'transcript': transcript,\n",
    "                    'latency': eval(latency)}]\n",
    "                )\n",
    "                df = pd.concat([df, df_new], ignore_index=True)\n",
    "    \n",
    "    return df"
   ]
  },
  {
   "cell_type": "code",
   "execution_count": null,
   "metadata": {},
   "outputs": [],
   "source": [
    "result_dir = \"benchmarking_results\"\n",
    "exp_name = \"fig1\"\n",
    "model_type = \"medium\"\n",
    "log_file = \"pipeline-v1_medium_ted-long-form-test-cut_step-100_ct-6_gt-5_mdr-0.5_with_tag.log\"\n",
    "\n",
    "file_path = os.path.join(result_dir, exp_name, model_type, log_file)\n",
    "\n",
    "df = process_log(file_path)"
   ]
  },
  {
   "cell_type": "code",
   "execution_count": 65,
   "metadata": {},
   "outputs": [
    {
     "data": {
      "text/plain": [
       "0.01"
      ]
     },
     "execution_count": 65,
     "metadata": {},
     "output_type": "execute_result"
    }
   ],
   "source": [
    "df.latency.min()"
   ]
  },
  {
   "cell_type": "code",
   "execution_count": null,
   "metadata": {},
   "outputs": [
    {
     "data": {
      "text/plain": [
       "0.01"
      ]
     },
     "execution_count": 63,
     "metadata": {},
     "output_type": "execute_result"
    }
   ],
   "source": [
    "# mean and std of latency\n",
    "df_no_negative = df.drop(df[df.latency < 0].index)\n",
    "df_no_negative.latency.mean(), df_no_negative.latency.std()"
   ]
  },
  {
   "cell_type": "code",
   "execution_count": 73,
   "metadata": {},
   "outputs": [
    {
     "data": {
      "image/png": "[encoded data removed]",
      "text/plain": [
       "<Figure size 640x480 with 1 Axes>"
      ]
     },
     "metadata": {},
     "output_type": "display_data"
    }
   ],
   "source": [
    "plt.hist(df_no_negative.latency, bins=30, edgecolor='black')  # 'bins' controls the number of intervals\n",
    "plt.xlabel('Latency (s)')\n",
    "plt.ylabel('Frequency')\n",
    "plt.title('Distribution of Latency - WhisperFlow')\n",
    "plt.show()"
   ]
  },
  {
   "cell_type": "code",
   "execution_count": 67,
   "metadata": {},
   "outputs": [],
   "source": [
    "df.to_csv(\"whisperflow-medium-ted-long-form-test-cut_step-100_ct-6_gt-5_mdr-0.5_with_tag.csv\")"
   ]
  },
  {
   "cell_type": "code",
   "execution_count": 90,
   "metadata": {},
   "outputs": [
    {
     "name": "stderr",
     "output_type": "stream",
     "text": [
      "  0%|          | 0/1740504 [00:00<?, ?it/s]/var/folders/4f/b73cbhys18j1lgxzqhmspqch0000gp/T/ipykernel_44160/1295450237.py:24: FutureWarning: The behavior of DataFrame concatenation with empty or all-NA entries is deprecated. In a future version, this will no longer exclude empty or all-NA columns when determining the result dtypes. To retain the old behavior, exclude the relevant entries before the concat operation.\n",
      "  df = pd.concat([df, df_new], ignore_index=True)\n",
      "100%|██████████| 1740504/1740504 [00:08<00:00, 215925.45it/s]\n"
     ]
    }
   ],
   "source": [
    "log_file_baseline = \"baseline_medium_ted-long-form-test-cut_step-100_ct-6_gt-5_mdr-0.5_no_tag.log\"\n",
    "file_path = os.path.join(result_dir, exp_name, model_type, log_file_baseline)\n",
    "df = process_log(file_path)"
   ]
  },
  {
   "cell_type": "code",
   "execution_count": 91,
   "metadata": {},
   "outputs": [
    {
     "data": {
      "text/plain": [
       "(4.186122666666667, 2.2532027802793024)"
      ]
     },
     "execution_count": 91,
     "metadata": {},
     "output_type": "execute_result"
    }
   ],
   "source": [
    "df.latency.mean(), df.latency.std()"
   ]
  },
  {
   "cell_type": "code",
   "execution_count": 75,
   "metadata": {},
   "outputs": [
    {
     "data": {
      "image/png": "[encoded data removed]",
      "text/plain": [
       "<Figure size 640x480 with 1 Axes>"
      ]
     },
     "metadata": {},
     "output_type": "display_data"
    }
   ],
   "source": [
    "plt.hist(df.latency, bins=30, edgecolor='black')  # 'bins' controls the number of intervals\n",
    "plt.xlabel('Latency (s)')\n",
    "plt.ylabel('Frequency')\n",
    "plt.title('Distribution of Latency - baseline')\n",
    "plt.show()"
   ]
  },
  {
   "cell_type": "code",
   "execution_count": 92,
   "metadata": {},
   "outputs": [],
   "source": [
    "df.to_csv(\"baseline-medium-ted-long-form-test-cut_step-100_t-5_no_tag.csv\")"
   ]
  },
  {
   "cell_type": "code",
   "execution_count": null,
   "metadata": {},
   "outputs": [],
   "source": []
  }
 ],
 "metadata": {
  "kernelspec": {
   "display_name": "tc",
   "language": "python",
   "name": "python3"
  },
  "language_info": {
   "codemirror_mode": {
    "name": "ipython",
    "version": 3
   },
   "file_extension": ".py",
   "mimetype": "text/x-python",
   "name": "python",
   "nbconvert_exporter": "python",
   "pygments_lexer": "ipython3",
   "version": "3.9.19"
  },
  "orig_nbformat": 4
 },
 "nbformat": 4,
 "nbformat_minor": 2
}
