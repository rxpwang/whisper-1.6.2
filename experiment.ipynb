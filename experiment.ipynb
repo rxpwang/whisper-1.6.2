{
 "cells": [
  {
   "cell_type": "code",
   "execution_count": 22,
   "metadata": {},
   "outputs": [],
   "source": [
    "import numpy as np\n",
    "from collections import defaultdict\n",
    "\n",
    "def get_exp_mean_and_std(data):\n",
    "    '''\n",
    "    Put the result of the following command in `data`\n",
    "    grep -rni \"average latency\" . | sort -t: -k1,1\n",
    "    '''\n",
    "    exp_to_data = defaultdict(list)\n",
    "    for line in data.split(\"\\n\"):\n",
    "        if not line:\n",
    "            continue\n",
    "        exp_name = line.split(\"run\")[0]\n",
    "        latency = eval(line.split(\":\")[-1].strip())\n",
    "        exp_to_data[exp_name].append(latency)\n",
    "        \n",
    "    for exp_name, latencies in exp_to_data.items():\n",
    "        print(exp_name, \" \" * (80-len(exp_name)), \"%.1f (+-%.1f) ms\" % (np.mean(latencies)*1000, np.std(latencies)*1000))"
   ]
  },
  {
   "cell_type": "code",
   "execution_count": 23,
   "metadata": {},
   "outputs": [],
   "source": [
    "data=\"\"\"\n",
    "./pipeline-v1_medium_bernie4min.wav_step-10_ct-5_gt-5_mdr-0.25_no_tag_run-1.log:266695:Average latency: 2.26005\n",
    "./pipeline-v1_medium_bernie4min.wav_step-10_ct-5_gt-5_mdr-0.25_no_tag_run-2.log:250884:Average latency: 2.34451\n",
    "./pipeline-v1_medium_bernie4min.wav_step-10_ct-5_gt-5_mdr-0.25_no_tag_run-3.log:266156:Average latency: 2.56174\n",
    "./pipeline-v1_medium_bernie4min.wav_step-10_ct-5_gt-5_mdr-0.25_no_tag_run-4.log:250758:Average latency: 2.32811\n",
    "./pipeline-v1_medium_bernie4min.wav_step-10_ct-5_gt-5_mdr-0.25_no_tag_run-5.log:299369:Average latency: 2.55913\n",
    "./pipeline-v1_medium_bernie4min.wav_step-10_ct-5_gt-5_mdr-0.25_with_tag_run-1.log:417076:Average latency: 1.43481\n",
    "./pipeline-v1_medium_bernie4min.wav_step-10_ct-5_gt-5_mdr-0.25_with_tag_run-2.log:416178:Average latency: 1.61424\n",
    "./pipeline-v1_medium_bernie4min.wav_step-10_ct-5_gt-5_mdr-0.25_with_tag_run-5.log:404770:Average latency: 1.25572\n",
    "./pipeline-v1_medium_bernie4min.wav_step-10_ct-5_gt-5_mdr-0.33_no_tag_run-1.log:261992:Average latency: 2.42454\n",
    "./pipeline-v1_medium_bernie4min.wav_step-10_ct-5_gt-5_mdr-0.33_no_tag_run-2.log:260602:Average latency: 2.39703\n",
    "./pipeline-v1_medium_bernie4min.wav_step-10_ct-5_gt-5_mdr-0.33_no_tag_run-3.log:252646:Average latency: 2.2208\n",
    "./pipeline-v1_medium_bernie4min.wav_step-10_ct-5_gt-5_mdr-0.33_no_tag_run-4.log:258057:Average latency: 2.76755\n",
    "./pipeline-v1_medium_bernie4min.wav_step-10_ct-5_gt-5_mdr-0.33_no_tag_run-5.log:247208:Average latency: 2.24523\n",
    "./pipeline-v1_medium_bernie4min.wav_step-10_ct-5_gt-5_mdr-0.33_with_tag_run-1.log:414075:Average latency: 1.19593\n",
    "./pipeline-v1_medium_bernie4min.wav_step-10_ct-5_gt-5_mdr-0.33_with_tag_run-2.log:406659:Average latency: 1.12109\n",
    "./pipeline-v1_medium_bernie4min.wav_step-10_ct-5_gt-5_mdr-0.33_with_tag_run-3.log:415632:Average latency: 1.24239\n",
    "./pipeline-v1_medium_bernie4min.wav_step-10_ct-5_gt-5_mdr-0.33_with_tag_run-4.log:417496:Average latency: 1.22194\n",
    "./pipeline-v1_medium_bernie4min.wav_step-10_ct-5_gt-5_mdr-0.33_with_tag_run-5.log:405785:Average latency: 1.07083\n",
    "./pipeline-v1_medium_bernie4min.wav_step-10_ct-5_gt-5_mdr-0.5_no_tag_run-1.log:247547:Average latency: 2.48149\n",
    "./pipeline-v1_medium_bernie4min.wav_step-10_ct-5_gt-5_mdr-0.5_no_tag_run-2.log:237212:Average latency: 2.48076\n",
    "./pipeline-v1_medium_bernie4min.wav_step-10_ct-5_gt-5_mdr-0.5_no_tag_run-3.log:242611:Average latency: 2.68235\n",
    "./pipeline-v1_medium_bernie4min.wav_step-10_ct-5_gt-5_mdr-0.5_no_tag_run-4.log:251723:Average latency: 2.56669\n",
    "./pipeline-v1_medium_bernie4min.wav_step-10_ct-5_gt-5_mdr-0.5_no_tag_run-5.log:241838:Average latency: 2.35948\n",
    "./pipeline-v1_medium_bernie4min.wav_step-10_ct-5_gt-5_mdr-0.5_with_tag_run-1.log:388079:Average latency: 1.2089\n",
    "./pipeline-v1_medium_bernie4min.wav_step-10_ct-5_gt-5_mdr-0.5_with_tag_run-2.log:391919:Average latency: 1.29696\n",
    "./pipeline-v1_medium_bernie4min.wav_step-10_ct-5_gt-5_mdr-0.5_with_tag_run-3.log:392918:Average latency: 1.12217\n",
    "./pipeline-v1_medium_bernie4min.wav_step-10_ct-5_gt-5_mdr-0.5_with_tag_run-4.log:387953:Average latency: 1.48763\n",
    "./pipeline-v1_medium_bernie4min.wav_step-10_ct-5_gt-5_mdr-0.5_with_tag_run-5.log:385656:Average latency: 1.2357\n",
    "./pipeline-v1_medium_bernie4min.wav_step-10_ct-5_gt-5_mdr-0.67_no_tag_run-1.log:245137:Average latency: 2.6945\n",
    "./pipeline-v1_medium_bernie4min.wav_step-10_ct-5_gt-5_mdr-0.67_no_tag_run-3.log:234440:Average latency: 2.67229\n",
    "./pipeline-v1_medium_bernie4min.wav_step-10_ct-5_gt-5_mdr-0.67_no_tag_run-4.log:234041:Average latency: 2.79799\n",
    "./pipeline-v1_medium_bernie4min.wav_step-10_ct-5_gt-5_mdr-0.67_no_tag_run-5.log:227549:Average latency: 2.60152\n",
    "./pipeline-v1_medium_bernie4min.wav_step-10_ct-5_gt-5_mdr-0.67_with_tag_run-2.log:371735:Average latency: 1.38039\n",
    "./pipeline-v1_medium_bernie4min.wav_step-10_ct-5_gt-5_mdr-0.67_with_tag_run-3.log:375155:Average latency: 1.47994\n",
    "./pipeline-v1_medium_bernie4min.wav_step-10_ct-5_gt-5_mdr-0.67_with_tag_run-4.log:356721:Average latency: 1.35571\n",
    "./pipeline-v1_medium_bernie4min.wav_step-10_ct-5_gt-5_mdr-0.67_with_tag_run-5.log:360201:Average latency: 1.48432\n",
    "./pipeline-v1_medium_bernie4min.wav_step-10_ct-5_gt-5_mdr-0.75_no_tag_run-1.log:225455:Average latency: 2.74391\n",
    "./pipeline-v1_medium_bernie4min.wav_step-10_ct-5_gt-5_mdr-0.75_no_tag_run-3.log:234706:Average latency: 2.85047\n",
    "./pipeline-v1_medium_bernie4min.wav_step-10_ct-5_gt-5_mdr-0.75_no_tag_run-4.log:241473:Average latency: 2.74972\n",
    "./pipeline-v1_medium_bernie4min.wav_step-10_ct-5_gt-5_mdr-0.75_no_tag_run-5.log:226932:Average latency: 2.86138\n",
    "./pipeline-v1_medium_bernie4min.wav_step-10_ct-5_gt-5_mdr-0.75_with_tag_run-1.log:364305:Average latency: 1.80872\n",
    "./pipeline-v1_medium_bernie4min.wav_step-10_ct-5_gt-5_mdr-0.75_with_tag_run-2.log:363352:Average latency: 1.63306\n",
    "./pipeline-v1_medium_bernie4min.wav_step-10_ct-5_gt-5_mdr-0.75_with_tag_run-3.log:351199:Average latency: 1.52107\n",
    "./pipeline-v1_medium_bernie4min.wav_step-10_ct-5_gt-5_mdr-0.75_with_tag_run-4.log:356760:Average latency: 1.51897\n",
    "./pipeline-v1_medium_bernie4min.wav_step-10_ct-5_gt-5_mdr-0.75_with_tag_run-5.log:356277:Average latency: 1.53965\n",
    "\"\"\""
   ]
  },
  {
   "cell_type": "code",
   "execution_count": 24,
   "metadata": {},
   "outputs": [
    {
     "name": "stdout",
     "output_type": "stream",
     "text": [
      "./pipeline-v1_medium_bernie4min.wav_step-10_ct-5_gt-5_mdr-0.25_no_tag_            2410.7 (+-125.5) ms\n",
      "./pipeline-v1_medium_bernie4min.wav_step-10_ct-5_gt-5_mdr-0.25_with_tag_          1434.9 (+-146.4) ms\n",
      "./pipeline-v1_medium_bernie4min.wav_step-10_ct-5_gt-5_mdr-0.33_no_tag_            2411.0 (+-195.5) ms\n",
      "./pipeline-v1_medium_bernie4min.wav_step-10_ct-5_gt-5_mdr-0.33_with_tag_          1170.4 (+-64.6) ms\n",
      "./pipeline-v1_medium_bernie4min.wav_step-10_ct-5_gt-5_mdr-0.5_no_tag_             2514.2 (+-106.9) ms\n",
      "./pipeline-v1_medium_bernie4min.wav_step-10_ct-5_gt-5_mdr-0.5_with_tag_           1270.3 (+-122.4) ms\n",
      "./pipeline-v1_medium_bernie4min.wav_step-10_ct-5_gt-5_mdr-0.67_no_tag_            2691.6 (+-70.4) ms\n",
      "./pipeline-v1_medium_bernie4min.wav_step-10_ct-5_gt-5_mdr-0.67_with_tag_          1425.1 (+-57.7) ms\n",
      "./pipeline-v1_medium_bernie4min.wav_step-10_ct-5_gt-5_mdr-0.75_no_tag_            2801.4 (+-54.7) ms\n",
      "./pipeline-v1_medium_bernie4min.wav_step-10_ct-5_gt-5_mdr-0.75_with_tag_          1604.3 (+-110.5) ms\n"
     ]
    }
   ],
   "source": [
    "get_exp_mean_and_std(data)"
   ]
  },
  {
   "cell_type": "code",
   "execution_count": null,
   "metadata": {},
   "outputs": [],
   "source": []
  }
 ],
 "metadata": {
  "kernelspec": {
   "display_name": "tc",
   "language": "python",
   "name": "python3"
  },
  "language_info": {
   "codemirror_mode": {
    "name": "ipython",
    "version": 3
   },
   "file_extension": ".py",
   "mimetype": "text/x-python",
   "name": "python",
   "nbconvert_exporter": "python",
   "pygments_lexer": "ipython3",
   "version": "3.9.19"
  },
  "orig_nbformat": 4
 },
 "nbformat": 4,
 "nbformat_minor": 2
}
